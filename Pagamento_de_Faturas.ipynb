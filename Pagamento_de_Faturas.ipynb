{
  "nbformat": 4,
  "nbformat_minor": 0,
  "metadata": {
    "colab": {
      "provenance": [],
      "authorship_tag": "ABX9TyM9rzaPflcpE6TVlb9ZKD6P",
      "include_colab_link": true
    },
    "kernelspec": {
      "name": "python3",
      "display_name": "Python 3"
    },
    "language_info": {
      "name": "python"
    }
  },
  "cells": [
    {
      "cell_type": "markdown",
      "metadata": {
        "id": "view-in-github",
        "colab_type": "text"
      },
      "source": [
        "<a href=\"https://colab.research.google.com/github/josehumbertodearaujo/combinacao-de-valores/blob/main/Pagamento_de_Faturas.ipynb\" target=\"_parent\"><img src=\"https://colab.research.google.com/assets/colab-badge.svg\" alt=\"Open In Colab\"/></a>"
      ]
    },
    {
      "cell_type": "code",
      "source": [
        "from itertools import combinations\n",
        "from google.colab import files\n",
        "import pandas as pd\n",
        "upload = files.upload()"
      ],
      "metadata": {
        "colab": {
          "base_uri": "https://localhost:8080/",
          "height": 73
        },
        "id": "6tfaJBUDYTHQ",
        "outputId": "0016fec6-d5ea-4293-9126-3f721eb73d82"
      },
      "execution_count": 1,
      "outputs": [
        {
          "output_type": "display_data",
          "data": {
            "text/plain": [
              "<IPython.core.display.HTML object>"
            ],
            "text/html": [
              "\n",
              "     <input type=\"file\" id=\"files-befff6b3-6216-47ef-89fc-6421685f7c74\" name=\"files[]\" multiple disabled\n",
              "        style=\"border:none\" />\n",
              "     <output id=\"result-befff6b3-6216-47ef-89fc-6421685f7c74\">\n",
              "      Upload widget is only available when the cell has been executed in the\n",
              "      current browser session. Please rerun this cell to enable.\n",
              "      </output>\n",
              "      <script>// Copyright 2017 Google LLC\n",
              "//\n",
              "// Licensed under the Apache License, Version 2.0 (the \"License\");\n",
              "// you may not use this file except in compliance with the License.\n",
              "// You may obtain a copy of the License at\n",
              "//\n",
              "//      http://www.apache.org/licenses/LICENSE-2.0\n",
              "//\n",
              "// Unless required by applicable law or agreed to in writing, software\n",
              "// distributed under the License is distributed on an \"AS IS\" BASIS,\n",
              "// WITHOUT WARRANTIES OR CONDITIONS OF ANY KIND, either express or implied.\n",
              "// See the License for the specific language governing permissions and\n",
              "// limitations under the License.\n",
              "\n",
              "/**\n",
              " * @fileoverview Helpers for google.colab Python module.\n",
              " */\n",
              "(function(scope) {\n",
              "function span(text, styleAttributes = {}) {\n",
              "  const element = document.createElement('span');\n",
              "  element.textContent = text;\n",
              "  for (const key of Object.keys(styleAttributes)) {\n",
              "    element.style[key] = styleAttributes[key];\n",
              "  }\n",
              "  return element;\n",
              "}\n",
              "\n",
              "// Max number of bytes which will be uploaded at a time.\n",
              "const MAX_PAYLOAD_SIZE = 100 * 1024;\n",
              "\n",
              "function _uploadFiles(inputId, outputId) {\n",
              "  const steps = uploadFilesStep(inputId, outputId);\n",
              "  const outputElement = document.getElementById(outputId);\n",
              "  // Cache steps on the outputElement to make it available for the next call\n",
              "  // to uploadFilesContinue from Python.\n",
              "  outputElement.steps = steps;\n",
              "\n",
              "  return _uploadFilesContinue(outputId);\n",
              "}\n",
              "\n",
              "// This is roughly an async generator (not supported in the browser yet),\n",
              "// where there are multiple asynchronous steps and the Python side is going\n",
              "// to poll for completion of each step.\n",
              "// This uses a Promise to block the python side on completion of each step,\n",
              "// then passes the result of the previous step as the input to the next step.\n",
              "function _uploadFilesContinue(outputId) {\n",
              "  const outputElement = document.getElementById(outputId);\n",
              "  const steps = outputElement.steps;\n",
              "\n",
              "  const next = steps.next(outputElement.lastPromiseValue);\n",
              "  return Promise.resolve(next.value.promise).then((value) => {\n",
              "    // Cache the last promise value to make it available to the next\n",
              "    // step of the generator.\n",
              "    outputElement.lastPromiseValue = value;\n",
              "    return next.value.response;\n",
              "  });\n",
              "}\n",
              "\n",
              "/**\n",
              " * Generator function which is called between each async step of the upload\n",
              " * process.\n",
              " * @param {string} inputId Element ID of the input file picker element.\n",
              " * @param {string} outputId Element ID of the output display.\n",
              " * @return {!Iterable<!Object>} Iterable of next steps.\n",
              " */\n",
              "function* uploadFilesStep(inputId, outputId) {\n",
              "  const inputElement = document.getElementById(inputId);\n",
              "  inputElement.disabled = false;\n",
              "\n",
              "  const outputElement = document.getElementById(outputId);\n",
              "  outputElement.innerHTML = '';\n",
              "\n",
              "  const pickedPromise = new Promise((resolve) => {\n",
              "    inputElement.addEventListener('change', (e) => {\n",
              "      resolve(e.target.files);\n",
              "    });\n",
              "  });\n",
              "\n",
              "  const cancel = document.createElement('button');\n",
              "  inputElement.parentElement.appendChild(cancel);\n",
              "  cancel.textContent = 'Cancel upload';\n",
              "  const cancelPromise = new Promise((resolve) => {\n",
              "    cancel.onclick = () => {\n",
              "      resolve(null);\n",
              "    };\n",
              "  });\n",
              "\n",
              "  // Wait for the user to pick the files.\n",
              "  const files = yield {\n",
              "    promise: Promise.race([pickedPromise, cancelPromise]),\n",
              "    response: {\n",
              "      action: 'starting',\n",
              "    }\n",
              "  };\n",
              "\n",
              "  cancel.remove();\n",
              "\n",
              "  // Disable the input element since further picks are not allowed.\n",
              "  inputElement.disabled = true;\n",
              "\n",
              "  if (!files) {\n",
              "    return {\n",
              "      response: {\n",
              "        action: 'complete',\n",
              "      }\n",
              "    };\n",
              "  }\n",
              "\n",
              "  for (const file of files) {\n",
              "    const li = document.createElement('li');\n",
              "    li.append(span(file.name, {fontWeight: 'bold'}));\n",
              "    li.append(span(\n",
              "        `(${file.type || 'n/a'}) - ${file.size} bytes, ` +\n",
              "        `last modified: ${\n",
              "            file.lastModifiedDate ? file.lastModifiedDate.toLocaleDateString() :\n",
              "                                    'n/a'} - `));\n",
              "    const percent = span('0% done');\n",
              "    li.appendChild(percent);\n",
              "\n",
              "    outputElement.appendChild(li);\n",
              "\n",
              "    const fileDataPromise = new Promise((resolve) => {\n",
              "      const reader = new FileReader();\n",
              "      reader.onload = (e) => {\n",
              "        resolve(e.target.result);\n",
              "      };\n",
              "      reader.readAsArrayBuffer(file);\n",
              "    });\n",
              "    // Wait for the data to be ready.\n",
              "    let fileData = yield {\n",
              "      promise: fileDataPromise,\n",
              "      response: {\n",
              "        action: 'continue',\n",
              "      }\n",
              "    };\n",
              "\n",
              "    // Use a chunked sending to avoid message size limits. See b/62115660.\n",
              "    let position = 0;\n",
              "    do {\n",
              "      const length = Math.min(fileData.byteLength - position, MAX_PAYLOAD_SIZE);\n",
              "      const chunk = new Uint8Array(fileData, position, length);\n",
              "      position += length;\n",
              "\n",
              "      const base64 = btoa(String.fromCharCode.apply(null, chunk));\n",
              "      yield {\n",
              "        response: {\n",
              "          action: 'append',\n",
              "          file: file.name,\n",
              "          data: base64,\n",
              "        },\n",
              "      };\n",
              "\n",
              "      let percentDone = fileData.byteLength === 0 ?\n",
              "          100 :\n",
              "          Math.round((position / fileData.byteLength) * 100);\n",
              "      percent.textContent = `${percentDone}% done`;\n",
              "\n",
              "    } while (position < fileData.byteLength);\n",
              "  }\n",
              "\n",
              "  // All done.\n",
              "  yield {\n",
              "    response: {\n",
              "      action: 'complete',\n",
              "    }\n",
              "  };\n",
              "}\n",
              "\n",
              "scope.google = scope.google || {};\n",
              "scope.google.colab = scope.google.colab || {};\n",
              "scope.google.colab._files = {\n",
              "  _uploadFiles,\n",
              "  _uploadFilesContinue,\n",
              "};\n",
              "})(self);\n",
              "</script> "
            ]
          },
          "metadata": {}
        },
        {
          "output_type": "stream",
          "name": "stdout",
          "text": [
            "Saving Faturas.csv to Faturas (5).csv\n"
          ]
        }
      ]
    },
    {
      "cell_type": "code",
      "source": [
        "def data_preparation(file_path):\n",
        "  '''\n",
        "  Função para tratar a base de dados com as informações das faturas\n",
        "  file_path = Parametro obrigatório. Caminho do arquivo csv que contém as informações das faturas\n",
        "  retorno: Data frame tratado\n",
        "  '''\n",
        "  df = pd.read_csv(file_path, encoding='ISO-8859-1', sep=';')\n",
        "  df = df.drop(columns=['Unnamed: 4', 'Unnamed: 5', 'Unnamed: 6'])\n",
        "  df = df.dropna()\n",
        "  df = df[df['Situação'] == 'A PAGAR']\n",
        "  df['Fatura'] = df['Fatura'].astype(str).str.replace('.','')\n",
        "  df['Fatura'] = df['Fatura'].astype(int)\n",
        "  df['Fatura'] = df['Fatura'].apply(lambda x: x * 10 if x < 10000 else (x / 10 if x > 100000 else x))\n",
        "  df['Fatura'] = df['Fatura'].astype(int)\n",
        "  df['Valor'] = df['Valor'].apply(lambda x: x.strip('R$'))\n",
        "  df['Valor'] = df['Valor'].str.replace('.','')\n",
        "  df['Valor'] = df['Valor'].str.replace(',','.').astype(float)\n",
        "  return df\n"
      ],
      "metadata": {
        "id": "EdBKe8GIYmy3"
      },
      "execution_count": 13,
      "outputs": []
    },
    {
      "cell_type": "code",
      "source": [
        "def combinacao_valores(valores, deposito):\n",
        "  '''\n",
        "  Função para encontrar a combinação de faturas que mais se aproxima ao valor depositado\n",
        "  valores: Parâmetro obrigatório. Lista com os valores das faturas em aberto.\n",
        "  deposito: Parâmetro Obrigatório. Valor do depósito realizado\n",
        "  '''\n",
        "  soma = 0\n",
        "  soma_melhor = float('inf')\n",
        "  diferenca = 0\n",
        "  menor_diferenca = float('inf')\n",
        "  melhor_combinacao = None\n",
        "  for i in range(1,len(valores)+1):\n",
        "    for combinacao in combinations(valores,i):\n",
        "      soma = sum(combinacao)\n",
        "      diferenca = abs(deposito - soma)\n",
        "\n",
        "      if diferenca < menor_diferenca:\n",
        "        menor_diferenca = diferenca\n",
        "        melhor_combinacao = combinacao\n",
        "        soma_melhor = sum(melhor_combinacao)\n",
        "\n",
        "\n",
        "  if abs(menor_diferenca) < 0.01:\n",
        "    print('As faturas quitadas são: ')\n",
        "    for i in melhor_combinacao:\n",
        "      print('R$ ',i)\n",
        "    print('='*21)\n",
        "    print(f'Soma: R$ {soma_melhor:.2f}')\n",
        "    print(f'Depósito: R$ {deposito:.2f}')\n",
        "    print(f'Diferença: R$ {menor_diferenca:.2f}')\n",
        "    print('='*21)\n",
        "\n",
        "  else:\n",
        "    print('='*78)\n",
        "    print('O valor do depósito não coincide exatamente com nenhuma combinação de faturas')\n",
        "    print('='*78)\n",
        "    print('As combinação mais próxima é: ')\n",
        "    for i in melhor_combinacao:\n",
        "      print('R$ ',i)\n",
        "    print('='*21)\n",
        "    print(f'Soma: R$ {soma_melhor:.2f}')\n",
        "    print(f'Depósito: R$ {deposito:.2f}')\n",
        "    print(f'Diferença: R$ {menor_diferenca:.2f}')\n",
        "    print('='*21)\n",
        ""
      ],
      "metadata": {
        "id": "Y-41g7v01qeZ"
      },
      "execution_count": 14,
      "outputs": []
    },
    {
      "cell_type": "code",
      "source": [
        "df = data_preparation('Faturas.csv')"
      ],
      "metadata": {
        "id": "82JgsDhBntSV"
      },
      "execution_count": 15,
      "outputs": []
    },
    {
      "cell_type": "code",
      "source": [
        "combinacao_valores(valores=df['Valor'], deposito=38161.89)"
      ],
      "metadata": {
        "colab": {
          "base_uri": "https://localhost:8080/"
        },
        "id": "esjJagQ6nGr2",
        "outputId": "a60e2c33-e19e-414e-8878-ae5c14054d55"
      },
      "execution_count": 16,
      "outputs": [
        {
          "output_type": "stream",
          "name": "stdout",
          "text": [
            "As faturas quitadas são: \n",
            "R$  6152.84\n",
            "R$  5535.24\n",
            "R$  7264.52\n",
            "R$  7403.48\n",
            "R$  6322.68\n",
            "R$  5483.13\n",
            "=====================\n",
            "Soma: R$ 38161.89\n",
            "Depósito: R$ 38161.89\n",
            "Diferença: R$ 0.00\n",
            "=====================\n"
          ]
        }
      ]
    },
    {
      "cell_type": "code",
      "source": [
        "combinacao_valores(valores=df['Valor'], deposito= 50000.00)"
      ],
      "metadata": {
        "colab": {
          "base_uri": "https://localhost:8080/"
        },
        "id": "oRWNQBKx4WnU",
        "outputId": "9dd3c74d-ee82-49c3-a9b1-70912bc43455"
      },
      "execution_count": 17,
      "outputs": [
        {
          "output_type": "stream",
          "name": "stdout",
          "text": [
            "==============================================================================\n",
            "O valor do depósito não coincide exatamente com nenhuma combinação de faturas\n",
            "==============================================================================\n",
            "As combinação mais próxima é: \n",
            "R$  6152.84\n",
            "R$  4199.68\n",
            "R$  5535.24\n",
            "R$  5550.68\n",
            "R$  5549.84\n",
            "R$  172.15\n",
            "R$  7403.48\n",
            "R$  6322.68\n",
            "R$  5483.13\n",
            "R$  3630.33\n",
            "=====================\n",
            "Soma: R$ 50000.05\n",
            "Depósito: R$ 50000.00\n",
            "Diferença: R$ 0.05\n",
            "=====================\n"
          ]
        }
      ]
    }
  ]
}